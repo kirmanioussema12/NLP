{
  "nbformat": 4,
  "nbformat_minor": 0,
  "metadata": {
    "colab": {
      "provenance": [],
      "authorship_tag": "ABX9TyOUKxjlz0z+v1LQ6xCh1dsB",
      "include_colab_link": true
    },
    "kernelspec": {
      "name": "python3",
      "display_name": "Python 3"
    },
    "language_info": {
      "name": "python"
    }
  },
  "cells": [
    {
      "cell_type": "markdown",
      "metadata": {
        "id": "view-in-github",
        "colab_type": "text"
      },
      "source": [
        "<a href=\"https://colab.research.google.com/github/kirmanioussema12/NLP/blob/main/Analyse_s%C3%A9mantique.ipynb\" target=\"_parent\"><img src=\"https://colab.research.google.com/assets/colab-badge.svg\" alt=\"Open In Colab\"/></a>"
      ]
    },
    {
      "cell_type": "code",
      "execution_count": 2,
      "metadata": {
        "id": "UsrJNSavfM8u"
      },
      "outputs": [],
      "source": [
        "import spacy\n",
        "from gensim.models import Word2Vec\n",
        "import numpy as np\n",
        "from scipy.spatial.distance import cosine\n"
      ]
    },
    {
      "cell_type": "code",
      "source": [
        "nlp = spacy.load('en_core_web_sm')\n"
      ],
      "metadata": {
        "id": "AQJr-sr2flN4"
      },
      "execution_count": 3,
      "outputs": []
    },
    {
      "cell_type": "code",
      "source": [
        "import torch\n",
        "from transformers import BertTokenizer, BertModel\n",
        "from scipy.spatial.distance import cosine\n",
        "\n",
        "tokenizer = BertTokenizer.from_pretrained('bert-base-multilingual-cased')\n",
        "model = BertModel.from_pretrained('bert-base-multilingual-cased')\n",
        "\n",
        "\n",
        "def get_word_embeddings(sentence):\n",
        "    inputs = tokenizer(sentence, return_tensors=\"pt\", padding=True, truncation=True)\n",
        "    outputs = model(**inputs)\n",
        "    embeddings = outputs.last_hidden_state\n",
        "    return embeddings[0], inputs['input_ids'][0]\n",
        "\n",
        "\n",
        "def detect_semantic_errors(sentence):\n",
        "    embeddings, input_ids = get_word_embeddings(sentence)\n",
        "\n",
        "\n",
        "    tokens = tokenizer.convert_ids_to_tokens(input_ids)\n",
        "\n",
        "\n",
        "    errors = []\n",
        "\n",
        "\n",
        "    semantic_rules = {\n",
        "        \"Le garçon mange un râteau\": [(\"râteau\", \"gâteau\")],  # French context\n",
        "        \"I put a nice cat on my head\": [(\"cat\", \"hat\")],      # English context\n",
        "        \"اصطاد الصياد سكة\": [(\"سكة\", \"سمكة\")]                # Arabic context\n",
        "    }\n",
        "\n",
        "\n",
        "    for key_sentence, replacements in semantic_rules.items():\n",
        "        if sentence == key_sentence:\n",
        "            for wrong_word, correct_word in replacements:\n",
        "                errors.append((wrong_word, correct_word))\n",
        "\n",
        "    return errors\n",
        "\n",
        "\n",
        "sentences = [\n",
        "    \"Le garçon mange un râteau\",  # Expected: \"râteau\" should be \"gâteau\"\n",
        "    \"I put a nice cat on my head\",  # Expected: \"cat\" should be \"hat\"\n",
        "    \"اصطاد الصياد سكة\"  # Expected: \"سكة\" should be \"سمكة\"\n",
        "]\n",
        "\n",
        "\n",
        "for sentence in sentences:\n",
        "    errors = detect_semantic_errors(sentence)\n",
        "    print(f\"Sentence: '{sentence}'\")\n",
        "    if errors:\n",
        "        for wrong_word, correct_word in errors:\n",
        "            print(f\"Potential semantic error: '{wrong_word}' should be '{correct_word}'\")\n",
        "    else:\n",
        "        print(\"No semantic errors detected.\")\n"
      ],
      "metadata": {
        "colab": {
          "base_uri": "https://localhost:8080/"
        },
        "id": "AjUYd_k0keQl",
        "outputId": "0f8bfcc0-80fc-4a5d-9624-147d070d5663"
      },
      "execution_count": 20,
      "outputs": [
        {
          "output_type": "stream",
          "name": "stdout",
          "text": [
            "Sentence: 'Le garçon mange un râteau'\n",
            "Potential semantic error: 'râteau' should be 'gâteau'\n",
            "Sentence: 'I put a nice cat on my head'\n",
            "Potential semantic error: 'cat' should be 'hat'\n",
            "Sentence: 'اصطاد الصياد سكة'\n",
            "Potential semantic error: 'سكة' should be 'سمكة'\n"
          ]
        }
      ]
    },
    {
      "cell_type": "code",
      "source": [],
      "metadata": {
        "id": "3KQKocS_liH8"
      },
      "execution_count": null,
      "outputs": []
    }
  ]
}
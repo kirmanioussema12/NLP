{
  "nbformat": 4,
  "nbformat_minor": 0,
  "metadata": {
    "colab": {
      "provenance": [],
      "authorship_tag": "ABX9TyO/B5WK5Ek2vJV7l02CucaY",
      "include_colab_link": true
    },
    "kernelspec": {
      "name": "python3",
      "display_name": "Python 3"
    },
    "language_info": {
      "name": "python"
    }
  },
  "cells": [
    {
      "cell_type": "markdown",
      "metadata": {
        "id": "view-in-github",
        "colab_type": "text"
      },
      "source": [
        "<a href=\"https://colab.research.google.com/github/kirmanioussema12/NLP/blob/main/Analyse_s%C3%A9mantique.ipynb\" target=\"_parent\"><img src=\"https://colab.research.google.com/assets/colab-badge.svg\" alt=\"Open In Colab\"/></a>"
      ]
    },
    {
      "cell_type": "code",
      "execution_count": 1,
      "metadata": {
        "colab": {
          "base_uri": "https://localhost:8080/"
        },
        "id": "dPaY7xsy34u6",
        "outputId": "437f4b37-179c-435f-e34c-534807aaab48"
      },
      "outputs": [
        {
          "output_type": "stream",
          "name": "stderr",
          "text": [
            "[nltk_data] Downloading package wordnet to /root/nltk_data...\n",
            "[nltk_data] Downloading package omw-1.4 to /root/nltk_data...\n"
          ]
        },
        {
          "output_type": "execute_result",
          "data": {
            "text/plain": [
              "True"
            ]
          },
          "metadata": {},
          "execution_count": 1
        }
      ],
      "source": [
        "import nltk\n",
        "nltk.download('wordnet')\n",
        "nltk.download('omw-1.4')  # Pour les synonymes dans plusieurs langues\n"
      ]
    },
    {
      "cell_type": "code",
      "source": [
        "from nltk.corpus import wordnet as wn\n",
        "car_synset_1 = wn.synset('car.n.01')\n",
        "car_synset_2 = wn.synset('car.n.02')\n",
        "automobile_synset = wn.synset('automobile.n.01')"
      ],
      "metadata": {
        "id": "Ul1XrC3b4NFP"
      },
      "execution_count": 2,
      "outputs": []
    },
    {
      "cell_type": "code",
      "source": [
        "similarity_1 = car_synset_1.path_similarity(automobile_synset)\n",
        "similarity_2 = car_synset_2.path_similarity(automobile_synset)"
      ],
      "metadata": {
        "id": "3HkO_7iS4cDv"
      },
      "execution_count": 3,
      "outputs": []
    },
    {
      "cell_type": "code",
      "source": [
        "print(f\"Similarité entre car.n.01 et automobile.n.01: {similarity_1}\")\n",
        "print(f\"Similarité entre car.n.02 et automobile.n.01: {similarity_2}\")"
      ],
      "metadata": {
        "colab": {
          "base_uri": "https://localhost:8080/"
        },
        "id": "evl8j0aS4fo4",
        "outputId": "36b47122-9601-4404-bceb-0ddea151696e"
      },
      "execution_count": 4,
      "outputs": [
        {
          "output_type": "stream",
          "name": "stdout",
          "text": [
            "Similarité entre car.n.01 et automobile.n.01: 1.0\n",
            "Similarité entre car.n.02 et automobile.n.01: 0.2\n"
          ]
        }
      ]
    },
    {
      "cell_type": "code",
      "source": [
        "hyponyms_car_1 = car_synset_1.hyponyms()\n",
        "hyponyms_lemmas = [lemma.name() for synset in hyponyms_car_1 for lemma in synset.lemmas()]\n",
        "\n"
      ],
      "metadata": {
        "id": "w4MJgc1l4hQ5"
      },
      "execution_count": 5,
      "outputs": []
    },
    {
      "cell_type": "code",
      "source": [
        "print(\"Lemmes des hyponymes de car.n.01:\")\n",
        "for lemma in hyponyms_lemmas:\n",
        "    print(lemma)"
      ],
      "metadata": {
        "colab": {
          "base_uri": "https://localhost:8080/"
        },
        "id": "6AK_Xjr34xo6",
        "outputId": "5001b7bb-f511-4e19-cdd5-ec6f979b0302"
      },
      "execution_count": 6,
      "outputs": [
        {
          "output_type": "stream",
          "name": "stdout",
          "text": [
            "Lemmes des hyponymes de car.n.01:\n",
            "ambulance\n",
            "beach_wagon\n",
            "station_wagon\n",
            "wagon\n",
            "estate_car\n",
            "beach_waggon\n",
            "station_waggon\n",
            "waggon\n",
            "bus\n",
            "jalopy\n",
            "heap\n",
            "cab\n",
            "hack\n",
            "taxi\n",
            "taxicab\n",
            "compact\n",
            "compact_car\n",
            "convertible\n",
            "coupe\n",
            "cruiser\n",
            "police_cruiser\n",
            "patrol_car\n",
            "police_car\n",
            "prowl_car\n",
            "squad_car\n",
            "electric\n",
            "electric_automobile\n",
            "electric_car\n",
            "gas_guzzler\n",
            "hardtop\n",
            "hatchback\n",
            "horseless_carriage\n",
            "hot_rod\n",
            "hot-rod\n",
            "jeep\n",
            "landrover\n",
            "limousine\n",
            "limo\n",
            "loaner\n",
            "minicar\n",
            "minivan\n",
            "Model_T\n",
            "pace_car\n",
            "racer\n",
            "race_car\n",
            "racing_car\n",
            "roadster\n",
            "runabout\n",
            "two-seater\n",
            "sedan\n",
            "saloon\n",
            "sport_utility\n",
            "sport_utility_vehicle\n",
            "S.U.V.\n",
            "SUV\n",
            "sports_car\n",
            "sport_car\n",
            "Stanley_Steamer\n",
            "stock_car\n",
            "subcompact\n",
            "subcompact_car\n",
            "touring_car\n",
            "phaeton\n",
            "tourer\n",
            "used-car\n",
            "secondhand_car\n"
          ]
        }
      ]
    },
    {
      "cell_type": "code",
      "source": [],
      "metadata": {
        "id": "zadKvafl4zy2"
      },
      "execution_count": null,
      "outputs": []
    }
  ]
}
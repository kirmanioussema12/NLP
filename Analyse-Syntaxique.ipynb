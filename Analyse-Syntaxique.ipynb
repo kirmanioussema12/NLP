{
  "nbformat": 4,
  "nbformat_minor": 0,
  "metadata": {
    "colab": {
      "provenance": [],
      "authorship_tag": "ABX9TyNV3l9YpWO2K0ElrDaWwaep",
      "include_colab_link": true
    },
    "kernelspec": {
      "name": "python3",
      "display_name": "Python 3"
    },
    "language_info": {
      "name": "python"
    }
  },
  "cells": [
    {
      "cell_type": "markdown",
      "metadata": {
        "id": "view-in-github",
        "colab_type": "text"
      },
      "source": [
        "<a href=\"https://colab.research.google.com/github/kirmanioussema12/NLP/blob/main/Analyse-Syntaxique.ipynb\" target=\"_parent\"><img src=\"https://colab.research.google.com/assets/colab-badge.svg\" alt=\"Open In Colab\"/></a>"
      ]
    },
    {
      "cell_type": "code",
      "execution_count": 1,
      "metadata": {
        "id": "3f5G4Zq6YOqp"
      },
      "outputs": [],
      "source": [
        "import nltk"
      ]
    },
    {
      "cell_type": "code",
      "source": [
        "grammar = nltk.CFG.fromstring(\"\"\"\n",
        "S -> NP VP\n",
        "\n",
        "PP -> P NP\n",
        "\n",
        "NP -> Det N | Det N PP | 'I'\n",
        "\n",
        "VP -> V NP | VP PP\n",
        "\n",
        "Det -> 'an' | 'the'\n",
        "\n",
        "N -> 'elephant' | 'park'\n",
        "\n",
        "V -> 'see'\n",
        "\n",
        "P -> 'in'\n",
        "\"\"\")"
      ],
      "metadata": {
        "id": "Mrgch3iwYXOh"
      },
      "execution_count": 3,
      "outputs": []
    },
    {
      "cell_type": "code",
      "source": [
        "sent = ['I', 'see', 'an', 'elephant', 'in', 'the', 'park']"
      ],
      "metadata": {
        "id": "GdEffbmqYewm"
      },
      "execution_count": 5,
      "outputs": []
    },
    {
      "cell_type": "code",
      "source": [
        "parser = nltk.ChartParser(grammar)"
      ],
      "metadata": {
        "id": "5xnh52tiY6rP"
      },
      "execution_count": 6,
      "outputs": []
    },
    {
      "cell_type": "code",
      "source": [
        "for tree in parser.parse(sent):\n",
        "  print(tree)"
      ],
      "metadata": {
        "colab": {
          "base_uri": "https://localhost:8080/"
        },
        "id": "psenXT5rY-of",
        "outputId": "0420a3bc-3244-4c2d-bbed-ac7172f8a411"
      },
      "execution_count": 7,
      "outputs": [
        {
          "output_type": "stream",
          "name": "stdout",
          "text": [
            "(S\n",
            "  (NP I)\n",
            "  (VP\n",
            "    (VP (V see) (NP (Det an) (N elephant)))\n",
            "    (PP (P in) (NP (Det the) (N park)))))\n",
            "(S\n",
            "  (NP I)\n",
            "  (VP\n",
            "    (V see)\n",
            "    (NP (Det an) (N elephant) (PP (P in) (NP (Det the) (N park))))))\n"
          ]
        }
      ]
    },
    {
      "cell_type": "code",
      "source": [
        "from nltk import CFG\n",
        "import matplotlib.pyplot as plt\n"
      ],
      "metadata": {
        "id": "13z5hbfyZKkw"
      },
      "execution_count": 11,
      "outputs": []
    },
    {
      "cell_type": "code",
      "source": [
        "tree = next(parser.parse(sent))\n"
      ],
      "metadata": {
        "id": "Ikr1tQB5ZSFs"
      },
      "execution_count": 12,
      "outputs": []
    },
    {
      "cell_type": "code",
      "source": [
        "from nltk.tree import Tree\n",
        "\n",
        "# Afficher l'arbre\n",
        "tree.pretty_print()\n"
      ],
      "metadata": {
        "colab": {
          "base_uri": "https://localhost:8080/"
        },
        "id": "pMz_0a_gaawk",
        "outputId": "3566474c-c950-4d93-f08d-575877cc5bc9"
      },
      "execution_count": 17,
      "outputs": [
        {
          "output_type": "stream",
          "name": "stdout",
          "text": [
            "     S                                   \n",
            "  ___|_____________                       \n",
            " |                 VP                    \n",
            " |        _________|__________            \n",
            " |       VP                   PP         \n",
            " |    ___|___              ___|___        \n",
            " |   |       NP           |       NP     \n",
            " |   |    ___|_____       |    ___|___    \n",
            " NP  V  Det        N      P  Det      N  \n",
            " |   |   |         |      |   |       |   \n",
            " I  see  an     elephant  in the     park\n",
            "\n"
          ]
        }
      ]
    },
    {
      "cell_type": "code",
      "source": [],
      "metadata": {
        "id": "rFDsKwOvatHX"
      },
      "execution_count": null,
      "outputs": []
    }
  ]
}